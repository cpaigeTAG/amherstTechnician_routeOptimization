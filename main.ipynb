{
 "cells": [
  {
   "cell_type": "code",
   "execution_count": 5,
   "outputs": [],
   "source": [
    "import matplotlib.pyplot as plt\n",
    "import pandas as pd\n",
    "import numpy as np\n",
    "from sklearn.cluster import KMeans\n",
    "import pyodbc as odbc\n",
    "from k_means_constrained import KMeansConstrained\n",
    "import math"
   ],
   "metadata": {
    "collapsed": false,
    "pycharm": {
     "name": "#%%\n"
    }
   }
  },
  {
   "cell_type": "markdown",
   "source": [
    "# Import Data From SQL\n",
    "#### Property Data: ModelTestBed..msrportfolio\n",
    "#### Tech Data: IRSPublish..tv_technicianAddress"
   ],
   "metadata": {
    "collapsed": false,
    "pycharm": {
     "name": "#%% md\n"
    }
   }
  },
  {
   "cell_type": "code",
   "execution_count": 6,
   "outputs": [],
   "source": [
    "Driver_name = 'SQL Server Native Client 11.0'\n",
    "Server_Name = 'DFILSQL02.insightlabs.amherst.com'\n",
    "Database_Name = 'IRSPublish'\n",
    "\n",
    "\n",
    "cnxn = odbc.connect(\"Driver={SQL Server Native Client 11.0};\"\n",
    "                    \"Server=DFILSQL02.insightlabs.amherst.com;\"\n",
    "                    \"Trusted_Connection=yes;\")"
   ],
   "metadata": {
    "collapsed": false,
    "pycharm": {
     "name": "#%%\n"
    }
   }
  },
  {
   "cell_type": "code",
   "execution_count": 7,
   "outputs": [
    {
     "name": "stderr",
     "output_type": "stream",
     "text": [
      "C:\\Users\\cpaige\\AppData\\Local\\Temp\\ipykernel_4076\\4189659364.py:14: UserWarning: pandas only supports SQLAlchemy connectable (engine/connection) or database string URI or sqlite3 DBAPI2 connection. Other DBAPI2 objects are not tested. Please consider using SQLAlchemy.\n",
      "  raw_prop_data = pd.io.sql.read_sql(query_lat_long_data,cnxn)\n"
     ]
    },
    {
     "data": {
      "text/plain": "     propertyid branchname state CensusTractGeoId  property_lat  \\\n0      688715.0   St Louis    MO      29183311124     38.748878   \n1      689576.0   St Louis    MO      29189210924     38.825485   \n2      689587.0   St Louis    MO      29189210912     38.820415   \n3      742920.0   St Louis    MO      29183311322     38.766739   \n4      746947.0   St Louis    MO      29189210804     38.809879   \n..          ...        ...   ...              ...           ...   \n917   9022093.0   St Louis    MO      29183311311     38.786014   \n918   9115989.0   St Louis    MO      29099700116     38.405745   \n919   9156794.0   St Louis    MO      29189210804     38.796061   \n920   9169379.0   St Louis    MO      29071800601     38.446716   \n921   9190647.0   St Louis    MO      29189210804     38.798119   \n\n     property_long subdivision_name  \n0       -90.695831      VLG OF PHEA  \n1       -90.324326        BOARDWALK  \n2       -90.283859      RIVER OAK E  \n3       -90.625801      DARDENNE CR  \n4       -90.230721      COUNTRY VIL  \n..             ...              ...  \n917     -90.615328                   \n918     -90.406720                   \n919     -90.253075                   \n920     -91.021160                   \n921     -90.265030                   \n\n[922 rows x 7 columns]",
      "text/html": "<div>\n<style scoped>\n    .dataframe tbody tr th:only-of-type {\n        vertical-align: middle;\n    }\n\n    .dataframe tbody tr th {\n        vertical-align: top;\n    }\n\n    .dataframe thead th {\n        text-align: right;\n    }\n</style>\n<table border=\"1\" class=\"dataframe\">\n  <thead>\n    <tr style=\"text-align: right;\">\n      <th></th>\n      <th>propertyid</th>\n      <th>branchname</th>\n      <th>state</th>\n      <th>CensusTractGeoId</th>\n      <th>property_lat</th>\n      <th>property_long</th>\n      <th>subdivision_name</th>\n    </tr>\n  </thead>\n  <tbody>\n    <tr>\n      <th>0</th>\n      <td>688715.0</td>\n      <td>St Louis</td>\n      <td>MO</td>\n      <td>29183311124</td>\n      <td>38.748878</td>\n      <td>-90.695831</td>\n      <td>VLG OF PHEA</td>\n    </tr>\n    <tr>\n      <th>1</th>\n      <td>689576.0</td>\n      <td>St Louis</td>\n      <td>MO</td>\n      <td>29189210924</td>\n      <td>38.825485</td>\n      <td>-90.324326</td>\n      <td>BOARDWALK</td>\n    </tr>\n    <tr>\n      <th>2</th>\n      <td>689587.0</td>\n      <td>St Louis</td>\n      <td>MO</td>\n      <td>29189210912</td>\n      <td>38.820415</td>\n      <td>-90.283859</td>\n      <td>RIVER OAK E</td>\n    </tr>\n    <tr>\n      <th>3</th>\n      <td>742920.0</td>\n      <td>St Louis</td>\n      <td>MO</td>\n      <td>29183311322</td>\n      <td>38.766739</td>\n      <td>-90.625801</td>\n      <td>DARDENNE CR</td>\n    </tr>\n    <tr>\n      <th>4</th>\n      <td>746947.0</td>\n      <td>St Louis</td>\n      <td>MO</td>\n      <td>29189210804</td>\n      <td>38.809879</td>\n      <td>-90.230721</td>\n      <td>COUNTRY VIL</td>\n    </tr>\n    <tr>\n      <th>...</th>\n      <td>...</td>\n      <td>...</td>\n      <td>...</td>\n      <td>...</td>\n      <td>...</td>\n      <td>...</td>\n      <td>...</td>\n    </tr>\n    <tr>\n      <th>917</th>\n      <td>9022093.0</td>\n      <td>St Louis</td>\n      <td>MO</td>\n      <td>29183311311</td>\n      <td>38.786014</td>\n      <td>-90.615328</td>\n      <td></td>\n    </tr>\n    <tr>\n      <th>918</th>\n      <td>9115989.0</td>\n      <td>St Louis</td>\n      <td>MO</td>\n      <td>29099700116</td>\n      <td>38.405745</td>\n      <td>-90.406720</td>\n      <td></td>\n    </tr>\n    <tr>\n      <th>919</th>\n      <td>9156794.0</td>\n      <td>St Louis</td>\n      <td>MO</td>\n      <td>29189210804</td>\n      <td>38.796061</td>\n      <td>-90.253075</td>\n      <td></td>\n    </tr>\n    <tr>\n      <th>920</th>\n      <td>9169379.0</td>\n      <td>St Louis</td>\n      <td>MO</td>\n      <td>29071800601</td>\n      <td>38.446716</td>\n      <td>-91.021160</td>\n      <td></td>\n    </tr>\n    <tr>\n      <th>921</th>\n      <td>9190647.0</td>\n      <td>St Louis</td>\n      <td>MO</td>\n      <td>29189210804</td>\n      <td>38.798119</td>\n      <td>-90.265030</td>\n      <td></td>\n    </tr>\n  </tbody>\n</table>\n<p>922 rows × 7 columns</p>\n</div>"
     },
     "execution_count": 7,
     "metadata": {},
     "output_type": "execute_result"
    }
   ],
   "source": [
    "query_lat_long_data = '''\n",
    "SELECT [PropertyID] as propertyid\n",
    "      ,[BranchName] as branchname\n",
    "      ,[State] as state\n",
    "      ,[CensusTractGeoId]\n",
    "      ,[latitude] as property_lat\n",
    "      ,[longitude] as property_long\n",
    "      ,[SUBDIVISION_NAME] as subdivision_name\n",
    "  FROM [ModelTestBed].[dbo].[MSRportfolio]\n",
    "  where [Still Under Mgmt]='Yes'\n",
    "  and BranchName like '%st louis%'\n",
    "'''\n",
    "\n",
    "\n",
    "raw_prop_data = pd.io.sql.read_sql(query_lat_long_data,cnxn)\n",
    "\n",
    "lat_long_df = raw_prop_data.copy()\n",
    "lat_long_df = lat_long_df[lat_long_df['state'] == 'MO']\n",
    "lat_long_df"
   ],
   "metadata": {
    "collapsed": false,
    "pycharm": {
     "name": "#%%\n"
    }
   }
  },
  {
   "cell_type": "code",
   "execution_count": 8,
   "outputs": [],
   "source": [
    "lat_long_df.drop(lat_long_df.loc[lat_long_df['property_long'].isnull()].index, inplace=True)\n",
    "lat_long_df.drop(lat_long_df.loc[lat_long_df['property_lat'].isnull()].index, inplace=True)"
   ],
   "metadata": {
    "collapsed": false,
    "pycharm": {
     "name": "#%%\n"
    }
   }
  },
  {
   "cell_type": "code",
   "execution_count": 9,
   "outputs": [
    {
     "name": "stderr",
     "output_type": "stream",
     "text": [
      "C:\\Users\\cpaige\\AppData\\Local\\Temp\\ipykernel_4076\\2708271724.py:15: UserWarning: pandas only supports SQLAlchemy connectable (engine/connection) or database string URI or sqlite3 DBAPI2 connection. Other DBAPI2 objects are not tested. Please consider using SQLAlchemy.\n",
      "  raw_tech_data = pd.io.sql.read_sql(query_techData,cnxn)\n"
     ]
    },
    {
     "data": {
      "text/plain": "  branchname     state       tech_name              tech_email tech_zip  \\\n1   St Louis  Missouri   Donald Sewood   dsewood@msrenewal.com    63033   \n2   St Louis  Missouri     Lewis Jones   lejones@msrenewal.com    63104   \n3   St Louis  Missouri  Richard Carter  ricarter@msrenewal.com    63115   \n\n    tech_lat  tech_long  \n1  38.795587 -90.277213  \n2  38.610854 -90.212699  \n3  38.677276 -90.239754  ",
      "text/html": "<div>\n<style scoped>\n    .dataframe tbody tr th:only-of-type {\n        vertical-align: middle;\n    }\n\n    .dataframe tbody tr th {\n        vertical-align: top;\n    }\n\n    .dataframe thead th {\n        text-align: right;\n    }\n</style>\n<table border=\"1\" class=\"dataframe\">\n  <thead>\n    <tr style=\"text-align: right;\">\n      <th></th>\n      <th>branchname</th>\n      <th>state</th>\n      <th>tech_name</th>\n      <th>tech_email</th>\n      <th>tech_zip</th>\n      <th>tech_lat</th>\n      <th>tech_long</th>\n    </tr>\n  </thead>\n  <tbody>\n    <tr>\n      <th>1</th>\n      <td>St Louis</td>\n      <td>Missouri</td>\n      <td>Donald Sewood</td>\n      <td>dsewood@msrenewal.com</td>\n      <td>63033</td>\n      <td>38.795587</td>\n      <td>-90.277213</td>\n    </tr>\n    <tr>\n      <th>2</th>\n      <td>St Louis</td>\n      <td>Missouri</td>\n      <td>Lewis Jones</td>\n      <td>lejones@msrenewal.com</td>\n      <td>63104</td>\n      <td>38.610854</td>\n      <td>-90.212699</td>\n    </tr>\n    <tr>\n      <th>3</th>\n      <td>St Louis</td>\n      <td>Missouri</td>\n      <td>Richard Carter</td>\n      <td>ricarter@msrenewal.com</td>\n      <td>63115</td>\n      <td>38.677276</td>\n      <td>-90.239754</td>\n    </tr>\n  </tbody>\n</table>\n</div>"
     },
     "execution_count": 9,
     "metadata": {},
     "output_type": "execute_result"
    }
   ],
   "source": [
    "query_techData = \"\"\"\n",
    "select distinct ta.branchname, ta.[Primary Home Address - State] as state  ,ta.Worker as tech_name, ta.[Email - Primary Work] as tech_email ,ta.TechZipCode as tech_zip, ZipShp.LAT as tech_lat ,ZipShp.lon as tech_long\n",
    "from IRSPublish..tv_technicianAddress ta\n",
    "join thirdpartydata..Shp_ZipCode_dt ZipShp\n",
    "on ta.TechZipCode=ZipShp.ZipCode\n",
    "join modeltestbed..msrportfolio msr\n",
    "on msr.branchname like ta.Branchname+'%'\n",
    "and [Still Under Mgmt]='Yes'\n",
    "join thirdpartydata..Shp_Blocks_dt blkShp\n",
    "on blkShp.fips+blkShp.censusTract+blkshp.BlockGroup=msr.census_block\n",
    "where ta.branchName = 'St Louis'\n",
    "\n",
    "\"\"\"\n",
    "\n",
    "raw_tech_data = pd.io.sql.read_sql(query_techData,cnxn)\n",
    "\n",
    "tech_df = raw_tech_data.copy()\n",
    "tech_df = tech_df[tech_df['state'] == 'Missouri']\n",
    "tech_df"
   ],
   "metadata": {
    "collapsed": false,
    "pycharm": {
     "name": "#%%\n"
    }
   }
  },
  {
   "cell_type": "markdown",
   "source": [
    "# K-Means Clustering Assignments"
   ],
   "metadata": {
    "collapsed": false,
    "pycharm": {
     "name": "#%% md\n"
    }
   }
  },
  {
   "cell_type": "code",
   "execution_count": 10,
   "outputs": [],
   "source": [
    "miniPod_kmeans = KMeansConstrained(n_clusters=len(tech_df), size_min=round(len(lat_long_df) / len(tech_df)) - 3)\n",
    "\n",
    "lat_long_df['miniPod_id'] = miniPod_kmeans.fit_predict(lat_long_df[['property_lat', 'property_long']])\n",
    "\n",
    "lat_long_df['miniPod_id'] = lat_long_df['miniPod_id'] + 1"
   ],
   "metadata": {
    "collapsed": false,
    "pycharm": {
     "name": "#%%\n"
    }
   }
  },
  {
   "cell_type": "code",
   "execution_count": 11,
   "outputs": [],
   "source": [
    "miniPod_centers = miniPod_kmeans.cluster_centers_"
   ],
   "metadata": {
    "collapsed": false,
    "pycharm": {
     "name": "#%%\n"
    }
   }
  },
  {
   "cell_type": "code",
   "execution_count": 12,
   "outputs": [],
   "source": [
    "miniPod_labels = miniPod_kmeans.predict(lat_long_df[['property_lat', 'property_long']])\n",
    "miniPod_labels = miniPod_labels + 1"
   ],
   "metadata": {
    "collapsed": false,
    "pycharm": {
     "name": "#%%\n"
    }
   }
  },
  {
   "cell_type": "code",
   "execution_count": 13,
   "outputs": [
    {
     "data": {
      "text/plain": "1    304\n2    314\n3    304\nName: miniPod_id, dtype: int64"
     },
     "execution_count": 13,
     "metadata": {},
     "output_type": "execute_result"
    }
   ],
   "source": [
    "lat_long_df['miniPod_id'].value_counts().sort_index(ascending=True)"
   ],
   "metadata": {
    "collapsed": false,
    "pycharm": {
     "name": "#%%\n"
    }
   }
  },
  {
   "cell_type": "code",
   "execution_count": 14,
   "outputs": [
    {
     "data": {
      "text/plain": "<matplotlib.collections.PathCollection at 0x1ade5985400>"
     },
     "execution_count": 14,
     "metadata": {},
     "output_type": "execute_result"
    },
    {
     "data": {
      "text/plain": "<Figure size 640x480 with 2 Axes>",
      "image/png": "[encoded data removed]"
     },
     "metadata": {},
     "output_type": "display_data"
    }
   ],
   "source": [
    "lat_long_df.plot.scatter(x='property_lat', y='property_long', c=miniPod_labels, s=50, cmap= 'seismic')\n",
    "plt.scatter(miniPod_centers[:, 0], miniPod_centers[:, 1], c='black', s=75, alpha=1)"
   ],
   "metadata": {
    "collapsed": false,
    "pycharm": {
     "name": "#%%\n"
    }
   }
  },
  {
   "cell_type": "code",
   "execution_count": 15,
   "outputs": [],
   "source": [
    "n_clus = math.ceil(len(lat_long_df)/1500)"
   ],
   "metadata": {
    "collapsed": false,
    "pycharm": {
     "name": "#%%\n"
    }
   }
  },
  {
   "cell_type": "code",
   "execution_count": 16,
   "outputs": [],
   "source": [
    "bigPod_kmeans = KMeansConstrained(n_clusters=n_clus, size_min=round(len(lat_long_df) / n_clus) - 3)\n",
    "\n",
    "lat_long_df['bigPod_id'] = bigPod_kmeans.fit_predict(lat_long_df[['property_lat', 'property_long']])\n",
    "\n",
    "lat_long_df['bigPod_id'] = lat_long_df['bigPod_id'] + 1"
   ],
   "metadata": {
    "collapsed": false,
    "pycharm": {
     "name": "#%%\n"
    }
   }
  },
  {
   "cell_type": "code",
   "execution_count": 17,
   "outputs": [],
   "source": [
    "bigPod_centers = bigPod_kmeans.cluster_centers_"
   ],
   "metadata": {
    "collapsed": false,
    "pycharm": {
     "name": "#%%\n"
    }
   }
  },
  {
   "cell_type": "code",
   "execution_count": 18,
   "outputs": [],
   "source": [
    "bigPod_labels = bigPod_kmeans.predict(lat_long_df[['property_lat', 'property_long']])\n",
    "bigPod_labels = bigPod_labels + 1"
   ],
   "metadata": {
    "collapsed": false,
    "pycharm": {
     "name": "#%%\n"
    }
   }
  },
  {
   "cell_type": "code",
   "execution_count": 19,
   "outputs": [
    {
     "data": {
      "text/plain": "1    922\nName: bigPod_id, dtype: int64"
     },
     "execution_count": 19,
     "metadata": {},
     "output_type": "execute_result"
    }
   ],
   "source": [
    "lat_long_df['bigPod_id'].value_counts().sort_index(ascending=True)"
   ],
   "metadata": {
    "collapsed": false,
    "pycharm": {
     "name": "#%%\n"
    }
   }
  },
  {
   "cell_type": "code",
   "execution_count": 20,
   "outputs": [
    {
     "data": {
      "text/plain": "<matplotlib.collections.PathCollection at 0x1ad850ed430>"
     },
     "execution_count": 20,
     "metadata": {},
     "output_type": "execute_result"
    },
    {
     "data": {
      "text/plain": "<Figure size 640x480 with 2 Axes>",
      "image/png": "[encoded data removed]"
     },
     "metadata": {},
     "output_type": "display_data"
    }
   ],
   "source": [
    "lat_long_df.plot.scatter(x='property_lat', y='property_long', c=bigPod_labels, s=50, cmap= 'seismic')\n",
    "plt.scatter(bigPod_centers[:, 0], bigPod_centers[:, 1], c='black', s=75, alpha=1)"
   ],
   "metadata": {
    "collapsed": false,
    "pycharm": {
     "name": "#%%\n"
    }
   }
  },
  {
   "cell_type": "code",
   "execution_count": 21,
   "outputs": [],
   "source": [
    "collected_df = lat_long_df.copy()"
   ],
   "metadata": {
    "collapsed": false,
    "pycharm": {
     "name": "#%%\n"
    }
   }
  },
  {
   "cell_type": "code",
   "execution_count": 22,
   "outputs": [],
   "source": [
    "def censusTractSplit(collected_df):\n",
    "\n",
    "    collected_df['fips'] = [x[0:5] for x in collected_df['CensusTractGeoId'].astype(str)]\n",
    "\n",
    "    df_assign = collected_df.groupby(['fips','subdivision_name'])['miniPod_id'].nunique().to_frame().reset_index()\n",
    "\n",
    "    df_assign = df_assign[df_assign['miniPod_id']>1]\n",
    "    df_assign = df_assign.rename(columns={'miniPod_id':'nMiniPods'})\n",
    "\n",
    "    N_prop = collected_df.groupby(['fips','subdivision_name','miniPod_id'])['propertyid'].count().to_frame().reset_index()\n",
    "    N_prop = N_prop.rename(columns = {'propertyid':'nProp'})\n",
    "\n",
    "    to_choose = N_prop.merge(df_assign, left_on=['fips','subdivision_name'], right_on= ['fips','subdivision_name'])\n",
    "\n",
    "    to_choose['miniPod_rank'] =  to_choose.groupby(['fips','subdivision_name'])['nProp'].rank(method = 'first',ascending=False)\n",
    "\n",
    "    to_choose = to_choose[to_choose['miniPod_rank']==1][['fips','subdivision_name','miniPod_id']]\n",
    "\n",
    "    #now we just merge back\n",
    "    assigned = collected_df.merge(to_choose,how='left', left_on=['fips','subdivision_name'], right_on=['fips','subdivision_name'])\n",
    "    assigned = assigned.rename(columns={'miniPod_id_x':'prevMiniPodID','miniPod_id_y':'miniPod_id'})\n",
    "\n",
    "    new_assigned_df = assigned[assigned['miniPod_id'].notnull()].drop('prevMiniPodID', axis=1)\n",
    "\n",
    "    lst = list(new_assigned_df['propertyid'])\n",
    "\n",
    "    collected_df.drop(collected_df.loc[collected_df['propertyid'].isin(lst)].index, inplace=True)\n",
    "\n",
    "    collected_df = pd.concat([collected_df, new_assigned_df])\n",
    "\n",
    "    collected_df = collected_df.drop('fips', axis=1)\n",
    "\n",
    "    collected_df['propertyid'] = collected_df['propertyid'].astype(int)\n",
    "    collected_df['miniPod_id'] = collected_df['miniPod_id'].astype(int)\n",
    "    collected_df['bigPod_id'] = collected_df['bigPod_id'].astype(int)\n",
    "\n",
    "\n",
    "    return collected_df\n"
   ],
   "metadata": {
    "collapsed": false,
    "pycharm": {
     "name": "#%%\n"
    }
   }
  },
  {
   "cell_type": "code",
   "execution_count": 23,
   "outputs": [],
   "source": [
    "collected_df = censusTractSplit(collected_df)"
   ],
   "metadata": {
    "collapsed": false,
    "pycharm": {
     "name": "#%%\n"
    }
   }
  },
  {
   "cell_type": "code",
   "execution_count": 24,
   "outputs": [],
   "source": [
    "def same_bigPod(df):\n",
    "\n",
    "    df_assign = df.groupby(['miniPod_id'])['bigPod_id'].nunique().to_frame().reset_index().rename(columns={'bigPod_id': 'nBigPods'})\n",
    "\n",
    "    df_assign = df_assign[df_assign['nBigPods']>1]\n",
    "\n",
    "    n_prop = df.groupby(['miniPod_id', 'bigPod_id'])['propertyid'].count().to_frame().reset_index().rename(columns = {'propertyid':'nProp'})\n",
    "\n",
    "    to_choose = n_prop.merge(df_assign, left_on='miniPod_id', right_on='miniPod_id')\n",
    "\n",
    "    to_choose['miniPod_rank'] = to_choose.groupby('miniPod_id')['nProp'].rank(method='first', ascending=False)\n",
    "\n",
    "    to_choose = to_choose[to_choose['miniPod_rank'] ==1][['miniPod_id', 'bigPod_id']]\n",
    "\n",
    "    assigned = df.merge(to_choose, how='left', left_on='miniPod_id', right_on='miniPod_id')\n",
    "    assigned = assigned.rename(columns={'bigPod_id_x':'prevBigPodID','bigPod_id_y':'bigPod_id'})\n",
    "\n",
    "    new_assigned = assigned[assigned['bigPod_id'].notnull()].drop('prevBigPodID', axis=1)\n",
    "\n",
    "    lst = list(new_assigned['propertyid'])\n",
    "\n",
    "    df.drop(df.loc[df['propertyid'].isin(lst)].index, inplace=True)\n",
    "\n",
    "    new_df = new_assigned[['propertyid', 'branchname', 'CensusTractGeoId', 'property_lat', 'property_long', 'subdivision_name', 'miniPod_id', 'bigPod_id']]\n",
    "\n",
    "    final_df = pd.concat([df, new_df])\n",
    "\n",
    "    return final_df"
   ],
   "metadata": {
    "collapsed": false,
    "pycharm": {
     "name": "#%%\n"
    }
   }
  },
  {
   "cell_type": "code",
   "execution_count": 25,
   "outputs": [],
   "source": [
    "collected_df = same_bigPod(collected_df)"
   ],
   "metadata": {
    "collapsed": false,
    "pycharm": {
     "name": "#%%\n"
    }
   }
  },
  {
   "cell_type": "code",
   "execution_count": 26,
   "outputs": [],
   "source": [
    "def get_centers():\n",
    "    centers_df = pd.DataFrame(miniPod_centers)\n",
    "    centers_df.rename(columns={0:'miniPod_lat', 1:'miniPod_long'}, inplace=True)\n",
    "\n",
    "    labels_df = pd.DataFrame(set(miniPod_labels))\n",
    "    labels_df = labels_df.rename(columns={0:'clusterLabel'})\n",
    "\n",
    "    centers_df['miniPod_id'] = labels_df['clusterLabel']\n",
    "\n",
    "    centers_df['miniPod_id'] = centers_df['miniPod_id']\n",
    "\n",
    "    return centers_df"
   ],
   "metadata": {
    "collapsed": false,
    "pycharm": {
     "name": "#%%\n"
    }
   }
  },
  {
   "cell_type": "code",
   "execution_count": 27,
   "outputs": [],
   "source": [
    "collected_df = collected_df.merge(get_centers(), how='left', on='miniPod_id')"
   ],
   "metadata": {
    "collapsed": false,
    "pycharm": {
     "name": "#%%\n"
    }
   }
  },
  {
   "cell_type": "code",
   "execution_count": 28,
   "outputs": [],
   "source": [
    "def get_bigPod_center():\n",
    "\n",
    "\n",
    "\n",
    "    pod_centers = pd.DataFrame(bigPod_centers)\n",
    "    pod_centers['bigPod_id'] = np.unique(bigPod_labels)\n",
    "    pod_centers.rename(columns={0:'bigPod_lat', 1:'bigPod_long'}, inplace=True)\n",
    "\n",
    "    return pod_centers"
   ],
   "metadata": {
    "collapsed": false,
    "pycharm": {
     "name": "#%%\n"
    }
   }
  },
  {
   "cell_type": "code",
   "execution_count": 29,
   "outputs": [],
   "source": [
    "collected_df = collected_df.merge(get_bigPod_center(), how='left', on='bigPod_id')"
   ],
   "metadata": {
    "collapsed": false,
    "pycharm": {
     "name": "#%%\n"
    }
   }
  },
  {
   "cell_type": "code",
   "execution_count": 30,
   "outputs": [
    {
     "name": "stderr",
     "output_type": "stream",
     "text": [
      "C:\\Users\\cpaige\\AppData\\Roaming\\JetBrains\\DataSpell2022.1\\projects\\workspace\\venv\\lib\\site-packages\\openrouteservice\\directions.py:202: UserWarning: Less than 4 coordinates, nothing to optimize!\n",
      "  warnings.warn(\"Less than 4 coordinates, nothing to optimize!\", UserWarning)\n"
     ]
    }
   ],
   "source": [
    "import openrouteservice as ors\n",
    "\n",
    "client = ors.Client(base_url='http://localhost:8080/ors')\n",
    "\n",
    "def miniPodcenter2prop(row):\n",
    "    index, value = row\n",
    "    try:\n",
    "        coords = ((value[\"miniPod_long\"],value[\"miniPod_lat\"]),(value['property_long'],value['property_lat']))\n",
    "        routes = client.directions(coords, optimize_waypoints=True ,radiuses=50000)\n",
    "        result = {\n",
    "            'propertyid': value['propertyid'],\n",
    "            'branchname': value['branchname'],\n",
    "            'CensusTractGeoId' : value['CensusTractGeoId'],\n",
    "            'subdivision_name': value['subdivision_name'],\n",
    "            'property_lat': value['property_lat'],\n",
    "            'property_long': value['property_long'],\n",
    "            'miniPod_id': value['miniPod_id'],\n",
    "            'bigPod_id': value['bigPod_id'],\n",
    "            'miniPod_lat':value['miniPod_lat'],\n",
    "            'miniPod_long': value['miniPod_long'],\n",
    "            'bigPod_lat':value['bigPod_lat'],\n",
    "            'bigPod_long': value['bigPod_long'],\n",
    "            'miniPodcenter2prop_driving_distance(meters)': routes['routes'][0]['summary']['distance'],\n",
    "            'miniPodcenter2prop_driving_time(secs)': routes['routes'][0]['summary']['duration']\n",
    "        }\n",
    "    except:\n",
    "        result = {'invalid_row': index}\n",
    "    return result\n",
    "\n",
    "\n",
    "from multiprocessing.pool import ThreadPool\n",
    "\n",
    "pool = ThreadPool(14)\n",
    "results = pool.map(miniPodcenter2prop, collected_df.iterrows())\n",
    "pool.close()"
   ],
   "metadata": {
    "collapsed": false,
    "pycharm": {
     "name": "#%%\n"
    }
   }
  },
  {
   "cell_type": "code",
   "execution_count": 31,
   "outputs": [],
   "source": [
    "collected_df = pd.DataFrame([x_ for x_ in results if not x_.get('invalid_row')])"
   ],
   "metadata": {
    "collapsed": false,
    "pycharm": {
     "name": "#%%\n"
    }
   }
  },
  {
   "cell_type": "code",
   "execution_count": 32,
   "outputs": [
    {
     "name": "stderr",
     "output_type": "stream",
     "text": [
      "C:\\Users\\cpaige\\AppData\\Roaming\\JetBrains\\DataSpell2022.1\\projects\\workspace\\venv\\lib\\site-packages\\openrouteservice\\directions.py:202: UserWarning: Less than 4 coordinates, nothing to optimize!\n",
      "  warnings.warn(\"Less than 4 coordinates, nothing to optimize!\", UserWarning)\n"
     ]
    }
   ],
   "source": [
    "def bigPododcenter2prop(row):\n",
    "    index, value = row\n",
    "    try:\n",
    "        coords = ((value[\"bigPod_long\"],value[\"bigPod_lat\"]),(value['property_long'],value['property_lat']))\n",
    "        routes = client.directions(coords, optimize_waypoints=True ,radiuses=50000)\n",
    "        result = {\n",
    "            'propertyid': value['propertyid'],\n",
    "            'branchname': value['branchname'],\n",
    "            'CensusTractGeoId' : value['CensusTractGeoId'],\n",
    "            'subdivision_name': value['subdivision_name'],\n",
    "            'property_lat': value['property_lat'],\n",
    "            'property_long': value['property_long'],\n",
    "            'miniPod_id': value['miniPod_id'],\n",
    "            'bigPod_id': value['bigPod_id'],\n",
    "            'miniPod_lat':value['miniPod_lat'],\n",
    "            'miniPod_long': value['miniPod_long'],\n",
    "            'bigPod_lat': value['bigPod_lat'],\n",
    "            'bigPod_long': value['bigPod_long'],\n",
    "            'miniPodcenter2prop_driving_distance(meters)': value['miniPodcenter2prop_driving_distance(meters)'],\n",
    "            'miniPodcenter2prop_driving_time(secs)': value['miniPodcenter2prop_driving_time(secs)'],\n",
    "            'bigPodcenter2prop_driving_distance(meters)': routes['routes'][0]['summary']['distance'],\n",
    "            'bigPodcenter2prop_driving_time(secs)': routes['routes'][0]['summary']['duration']\n",
    "        }\n",
    "    except:\n",
    "        result = {'invalid_row': index}\n",
    "    return result\n",
    "\n",
    "\n",
    "from multiprocessing.pool import ThreadPool\n",
    "\n",
    "pool = ThreadPool(14)\n",
    "results = pool.map(bigPododcenter2prop, collected_df.iterrows())\n",
    "pool.close()"
   ],
   "metadata": {
    "collapsed": false,
    "pycharm": {
     "name": "#%%\n"
    }
   }
  },
  {
   "cell_type": "code",
   "execution_count": 33,
   "outputs": [],
   "source": [
    "collected_df = pd.DataFrame([x_ for x_ in results if not x_.get('invalid_row')])"
   ],
   "metadata": {
    "collapsed": false,
    "pycharm": {
     "name": "#%%\n"
    }
   }
  },
  {
   "cell_type": "markdown",
   "source": [
    "# Tech Assignment and Optimization"
   ],
   "metadata": {
    "collapsed": false,
    "pycharm": {
     "name": "#%% md\n"
    }
   }
  },
  {
   "cell_type": "code",
   "execution_count": 34,
   "outputs": [],
   "source": [
    "tech2center = tech_df.merge(get_centers(), how='cross')"
   ],
   "metadata": {
    "collapsed": false,
    "pycharm": {
     "name": "#%%\n"
    }
   }
  },
  {
   "cell_type": "code",
   "execution_count": 35,
   "outputs": [
    {
     "name": "stderr",
     "output_type": "stream",
     "text": [
      "C:\\Users\\cpaige\\AppData\\Roaming\\JetBrains\\DataSpell2022.1\\projects\\workspace\\venv\\lib\\site-packages\\openrouteservice\\directions.py:202: UserWarning: Less than 4 coordinates, nothing to optimize!\n",
      "  warnings.warn(\"Less than 4 coordinates, nothing to optimize!\", UserWarning)\n"
     ]
    }
   ],
   "source": [
    "def tech2center_(row):\n",
    "    index, value = row\n",
    "    try:\n",
    "        coords = ((value[\"tech_long\"],value[\"tech_lat\"]),(value['miniPod_long'],value['miniPod_lat']))\n",
    "        routes = client.directions(coords, optimize_waypoints=True ,radiuses=15000)\n",
    "        result = {\n",
    "            'tech_zip': value['tech_zip'],\n",
    "            'tech_name': value['tech_name'],\n",
    "            'tech_email': value['tech_email'],\n",
    "            'tech_lat': value['tech_lat'],\n",
    "            'tech_long': value['tech_long'],\n",
    "            'miniPod_lat': value['miniPod_lat'],\n",
    "            'miniPod_long': value['miniPod_long'],\n",
    "            'miniPod_id':value['miniPod_id'],\n",
    "            'driving_distance': routes['routes'][0]['summary']['distance'],\n",
    "            'driving_time': routes['routes'][0]['summary']['duration']\n",
    "        }\n",
    "    except:\n",
    "        result = {'invalid_row': index}\n",
    "    return result\n",
    "\n",
    "\n",
    "from multiprocessing.pool import ThreadPool\n",
    "\n",
    "pool = ThreadPool(14)\n",
    "results = pool.map(tech2center_, tech2center.iterrows())\n",
    "pool.close()"
   ],
   "metadata": {
    "collapsed": false,
    "pycharm": {
     "name": "#%%\n"
    }
   }
  },
  {
   "cell_type": "code",
   "execution_count": 36,
   "outputs": [],
   "source": [
    "tech2center_df = pd.DataFrame([x_ for x_ in results if not x_.get('invalid_row')])"
   ],
   "metadata": {
    "collapsed": false,
    "pycharm": {
     "name": "#%%\n"
    }
   }
  },
  {
   "cell_type": "code",
   "execution_count": 37,
   "outputs": [],
   "source": [
    "tech2center_final = tech2center_df.groupby(['tech_name', 'miniPod_id'])['driving_time'].sum().to_frame().reset_index().sort_values(['tech_name','miniPod_id'])"
   ],
   "metadata": {
    "collapsed": false,
    "pycharm": {
     "name": "#%%\n"
    }
   }
  },
  {
   "cell_type": "code",
   "execution_count": 38,
   "outputs": [],
   "source": [
    "tech_assigned = tech2center_final.copy()"
   ],
   "metadata": {
    "collapsed": false,
    "pycharm": {
     "name": "#%%\n"
    }
   }
  },
  {
   "cell_type": "code",
   "execution_count": 39,
   "outputs": [],
   "source": [
    "tech2center_final = tech2center_final.set_index(['miniPod_id','tech_name'],drop = True).unstack('miniPod_id')"
   ],
   "metadata": {
    "collapsed": false,
    "pycharm": {
     "name": "#%%\n"
    }
   }
  },
  {
   "cell_type": "code",
   "execution_count": 40,
   "outputs": [],
   "source": [
    "tech2center_final.columns = tech2center_final.columns.droplevel(0)"
   ],
   "metadata": {
    "collapsed": false,
    "pycharm": {
     "name": "#%%\n"
    }
   }
  },
  {
   "cell_type": "code",
   "execution_count": 41,
   "outputs": [],
   "source": [
    "from ortools.graph.python import linear_sum_assignment\n",
    "import numpy as np\n",
    "\n",
    "drivingTime_array = tech2center_final.to_numpy()"
   ],
   "metadata": {
    "collapsed": false,
    "pycharm": {
     "name": "#%%\n"
    }
   }
  },
  {
   "cell_type": "code",
   "execution_count": 42,
   "outputs": [],
   "source": [
    "# Let's transform this into 3 parallel vectors (start_nodes, end_nodes, arc_costs)\n",
    "end_nodes_unraveled, start_nodes_unraveled = np.meshgrid(np.arange(drivingTime_array.shape[1]),np.arange(drivingTime_array.shape[0]))\n",
    "start_nodes = start_nodes_unraveled.ravel()\n",
    "end_nodes = end_nodes_unraveled.ravel()\n",
    "arc_costs = drivingTime_array.ravel()"
   ],
   "metadata": {
    "collapsed": false,
    "pycharm": {
     "name": "#%%\n"
    }
   }
  },
  {
   "cell_type": "code",
   "execution_count": 43,
   "outputs": [],
   "source": [
    "assignment = linear_sum_assignment.SimpleLinearSumAssignment()"
   ],
   "metadata": {
    "collapsed": false,
    "pycharm": {
     "name": "#%%\n"
    }
   }
  },
  {
   "cell_type": "code",
   "execution_count": 44,
   "outputs": [
    {
     "data": {
      "text/plain": "array([0, 1, 2, 3, 4, 5, 6, 7, 8])"
     },
     "execution_count": 44,
     "metadata": {},
     "output_type": "execute_result"
    }
   ],
   "source": [
    "assignment.add_arcs_with_cost(start_nodes, end_nodes, arc_costs)"
   ],
   "metadata": {
    "collapsed": false,
    "pycharm": {
     "name": "#%%\n"
    }
   }
  },
  {
   "cell_type": "code",
   "execution_count": 45,
   "outputs": [],
   "source": [
    "status = assignment.solve()"
   ],
   "metadata": {
    "collapsed": false,
    "pycharm": {
     "name": "#%%\n"
    }
   }
  },
  {
   "cell_type": "code",
   "execution_count": 46,
   "outputs": [
    {
     "name": "stdout",
     "output_type": "stream",
     "text": [
      "Total driving time for all Techs: 3556 mins\n",
      "\n",
      "Technician 0 assigned to mini pod: 1  (Driving Time(mins) = 295)\n",
      "Technician 1 assigned to mini pod: 2  (Driving Time(mins) = 1020)\n",
      "Technician 2 assigned to mini pod: 0  (Driving Time(mins) = 2241)\n"
     ]
    }
   ],
   "source": [
    "if status == assignment.OPTIMAL:\n",
    "    print(f'Total driving time for all Techs: {assignment.optimal_cost()}', 'mins\\n')\n",
    "    for i in range(0, assignment.num_nodes()):\n",
    "        print(f'Technician {i} assigned to mini pod: {assignment.right_mate(i)}' +\n",
    "              f'  (Driving Time(mins) = {assignment.assignment_cost(i)})')\n",
    "elif status == assignment.INFEASIBLE:\n",
    "    print('No assignment is possible.')\n",
    "elif status == assignment.POSSIBLE_OVERFLOW:\n",
    "    print(\n",
    "        'Some input costs are too large and may cause an integer overflow.')"
   ],
   "metadata": {
    "collapsed": false,
    "pycharm": {
     "name": "#%%\n"
    }
   }
  },
  {
   "cell_type": "code",
   "execution_count": 47,
   "outputs": [],
   "source": [
    "optimizedTime_lst = []\n",
    "cluster_lst = []\n",
    "for i in range(0, assignment.num_nodes()):\n",
    "    optimizedTime_lst.append(assignment.assignment_cost(i))\n",
    "    cluster_lst.append(assignment.right_mate(i))"
   ],
   "metadata": {
    "collapsed": false,
    "pycharm": {
     "name": "#%%\n"
    }
   }
  },
  {
   "cell_type": "code",
   "execution_count": 48,
   "outputs": [],
   "source": [
    "tech_assigned = tech_assigned.merge(tech2center_df[['tech_name','tech_lat', 'tech_long', 'miniPod_lat', 'miniPod_long']])"
   ],
   "metadata": {
    "collapsed": false,
    "pycharm": {
     "name": "#%%\n"
    }
   }
  },
  {
   "cell_type": "code",
   "execution_count": 49,
   "outputs": [],
   "source": [
    "lst = []\n",
    "lst2 = []\n",
    "df = pd.DataFrame()\n",
    "for i in tech_df['tech_name']:\n",
    "    lat = tech_df.loc[tech_df['tech_name'] == i, 'tech_lat'].iloc[0]\n",
    "    long = tech_df.loc[tech_df['tech_name'] == i, 'tech_long'].iloc[0]\n",
    "    lst.append(lat)\n",
    "    lst2.append(long)\n",
    "\n",
    "\n",
    "df['tech_lat'] = lst\n",
    "df['tech_long'] = lst2"
   ],
   "metadata": {
    "collapsed": false,
    "pycharm": {
     "name": "#%%\n"
    }
   }
  },
  {
   "cell_type": "code",
   "execution_count": 50,
   "outputs": [],
   "source": [
    "optimizedTime_techAssignment = pd.DataFrame({\n",
    "    'tech_name': list(tech_assigned['tech_name'].unique()),\n",
    "    'tech_lat': list(df['tech_lat']),\n",
    "    'tech_long': list(df['tech_long']),\n",
    "    'miniPod_lat': list(tech_assigned['miniPod_lat'].unique()),\n",
    "    'miniPod_long': list(tech_assigned['miniPod_long'].unique()),\n",
    "    'miniPod_id': cluster_lst,\n",
    "    'optimizedDrivingTimes(mins)': optimizedTime_lst,\n",
    "})\n",
    "\n",
    "optimizedTime_techAssignment['miniPod_id'] = optimizedTime_techAssignment['miniPod_id'] + 1"
   ],
   "metadata": {
    "collapsed": false,
    "pycharm": {
     "name": "#%%\n"
    }
   }
  },
  {
   "cell_type": "code",
   "execution_count": 51,
   "outputs": [],
   "source": [
    "tech_assignment = optimizedTime_techAssignment.copy()"
   ],
   "metadata": {
    "collapsed": false,
    "pycharm": {
     "name": "#%%\n"
    }
   }
  },
  {
   "cell_type": "code",
   "execution_count": 52,
   "outputs": [],
   "source": [
    "tech_assigned = tech_assignment.merge(tech_df[['tech_name', 'tech_zip', 'tech_email']], how='left', on='tech_name')"
   ],
   "metadata": {
    "collapsed": false,
    "pycharm": {
     "name": "#%%\n"
    }
   }
  },
  {
   "cell_type": "code",
   "execution_count": 53,
   "outputs": [],
   "source": [
    "collected_df = collected_df.merge(tech_assigned[['miniPod_id','tech_name','tech_email', 'tech_zip', 'tech_lat', 'tech_long']], how='left', on='miniPod_id')"
   ],
   "metadata": {
    "collapsed": false,
    "pycharm": {
     "name": "#%%\n"
    }
   }
  },
  {
   "cell_type": "code",
   "execution_count": 54,
   "outputs": [
    {
     "name": "stderr",
     "output_type": "stream",
     "text": [
      "C:\\Users\\cpaige\\AppData\\Roaming\\JetBrains\\DataSpell2022.1\\projects\\workspace\\venv\\lib\\site-packages\\openrouteservice\\directions.py:202: UserWarning: Less than 4 coordinates, nothing to optimize!\n",
      "  warnings.warn(\"Less than 4 coordinates, nothing to optimize!\", UserWarning)\n"
     ]
    }
   ],
   "source": [
    "def tech2prop(row):\n",
    "    index, value = row\n",
    "    try:\n",
    "        coords = ((value[\"tech_long\"],value[\"tech_lat\"]),(value['property_long'],value['property_lat']))\n",
    "        routes = client.directions(coords, optimize_waypoints=True ,radiuses=50000)\n",
    "        result = {\n",
    "            'propertyid': value['propertyid'],\n",
    "            'branchname': value['branchname'],\n",
    "            'subdivision_name': value['subdivision_name'],\n",
    "            'property_lat': value['property_lat'],\n",
    "            'property_long': value['property_long'],\n",
    "            'miniPod_id': value['miniPod_id'],\n",
    "            'bigPod_id': value['bigPod_id'],\n",
    "            'miniPod_lat':value['miniPod_lat'],\n",
    "            'miniPod_long': value['miniPod_long'],\n",
    "            'bigPod_lat': value['bigPod_lat'],\n",
    "            'bigPod_long': value['bigPod_long'],\n",
    "            'miniPodcenter2prop_driving_distance(meters)': value['miniPodcenter2prop_driving_distance(meters)'],\n",
    "            'miniPodcenter2prop_driving_time(secs)': value['miniPodcenter2prop_driving_time(secs)'],\n",
    "            'bigPodcenter2prop_driving_distance(meters)': value['bigPodcenter2prop_driving_distance(meters)'],\n",
    "            'bigPodcenter2prop_driving_time(secs)': value['bigPodcenter2prop_driving_time(secs)'],\n",
    "            'tech_name': value['tech_name'],\n",
    "            'tech_zip': value['tech_zip'],\n",
    "            'tech_email': value['tech_email'],\n",
    "            'tech_lat': value['tech_lat'],\n",
    "            'tech_long': value['tech_long'],\n",
    "            'techZip2prop_driving_distance(meters)':routes['routes'][0]['summary']['distance'],\n",
    "            'techZip2prop_driving_time(secs)': routes['routes'][0]['summary']['duration']\n",
    "        }\n",
    "    except:\n",
    "        result = {'invalid_row': index}\n",
    "    return result\n",
    "\n",
    "\n",
    "from multiprocessing.pool import ThreadPool\n",
    "\n",
    "pool = ThreadPool(14)\n",
    "results = pool.map(tech2prop, collected_df.iterrows())\n",
    "pool.close()"
   ],
   "metadata": {
    "collapsed": false,
    "pycharm": {
     "name": "#%%\n"
    }
   }
  },
  {
   "cell_type": "code",
   "execution_count": 55,
   "outputs": [],
   "source": [
    "collected_df = pd.DataFrame([x_ for x_ in results if not x_.get('invalid_row')])"
   ],
   "metadata": {
    "collapsed": false,
    "pycharm": {
     "name": "#%%\n"
    }
   }
  },
  {
   "cell_type": "code",
   "execution_count": 56,
   "outputs": [
    {
     "name": "stderr",
     "output_type": "stream",
     "text": [
      "C:\\Users\\cpaige\\AppData\\Roaming\\JetBrains\\DataSpell2022.1\\projects\\workspace\\venv\\lib\\site-packages\\openrouteservice\\directions.py:202: UserWarning: Less than 4 coordinates, nothing to optimize!\n",
      "  warnings.warn(\"Less than 4 coordinates, nothing to optimize!\", UserWarning)\n"
     ]
    }
   ],
   "source": [
    "def tech2minipod(row):\n",
    "    index, value = row\n",
    "    try:\n",
    "        coords = ((value[\"tech_long\"],value[\"tech_lat\"]),(value['miniPod_long'],value['miniPod_lat']))\n",
    "        routes = client.directions(coords, optimize_waypoints=True ,radiuses=50000)\n",
    "        result = {\n",
    "            'propertyid': value['propertyid'],\n",
    "            'branchname': value['branchname'],\n",
    "            'subdivision_name': value['subdivision_name'],\n",
    "            'property_latitude': value['property_lat'],\n",
    "            'property_longitude': value['property_long'],\n",
    "            'miniPod_id': value['miniPod_id'],\n",
    "            'bigPod_id': value['bigPod_id'],\n",
    "            'miniPod_lat':value['miniPod_lat'],\n",
    "            'miniPod_long': value['miniPod_long'],\n",
    "            'bigPod_lat': value['bigPod_lat'],\n",
    "            'bigPod_long': value['bigPod_long'],\n",
    "            'miniPod2prop_driving_distance(meters)': value['miniPodcenter2prop_driving_distance(meters)'],\n",
    "            'miniPod2prop_driving_time(secs)': value['miniPodcenter2prop_driving_time(secs)'],\n",
    "            'bigPod2prop_driving_distance(meters)': value['bigPodcenter2prop_driving_distance(meters)'],\n",
    "            'bigPod2prop_driving_time(secs)': value['bigPodcenter2prop_driving_time(secs)'],\n",
    "            'tech_name': value['tech_name'],\n",
    "            'tech_zip': value['tech_zip'],\n",
    "            'tech_email': value['tech_email'],\n",
    "            'tech_lat': value['tech_lat'],\n",
    "            'tech_long': value['tech_long'],\n",
    "            'techZip2prop_driving_distance(meters)':value['techZip2prop_driving_distance(meters)'],\n",
    "            'techZip2prop_driving_time(secs)': value['techZip2prop_driving_time(secs)'],\n",
    "            'techZip2miniPod_driving_distance(meters)':routes['routes'][0]['summary']['distance'],\n",
    "            'techZip2miniPod_driving_time(secs)': routes['routes'][0]['summary']['duration']\n",
    "        }\n",
    "    except:\n",
    "        result = {'invalid_row': index}\n",
    "    return result\n",
    "\n",
    "\n",
    "from multiprocessing.pool import ThreadPool\n",
    "\n",
    "pool = ThreadPool(14)\n",
    "results = pool.map(tech2minipod, collected_df.iterrows())\n",
    "pool.close()"
   ],
   "metadata": {
    "collapsed": false,
    "pycharm": {
     "name": "#%%\n"
    }
   }
  },
  {
   "cell_type": "code",
   "execution_count": 57,
   "outputs": [],
   "source": [
    "collected_final = pd.DataFrame([x_ for x_ in results if not x_.get('invalid_row')])"
   ],
   "metadata": {
    "collapsed": false,
    "pycharm": {
     "name": "#%%\n"
    }
   }
  },
  {
   "cell_type": "code",
   "execution_count": 58,
   "outputs": [],
   "source": [
    "collected_final = collected_final[['propertyid',\n",
    "                                    'branchname',\n",
    "                                    'subdivision_name',\n",
    "                                    'property_latitude',\n",
    "                                    'property_longitude',\n",
    "                                    'tech_lat',\n",
    "                                    'tech_long',\n",
    "                                    'bigPod_lat',\n",
    "                                    'bigPod_long',\n",
    "                                    'miniPod_lat',\n",
    "                                    'miniPod_long',\n",
    "                                    'miniPod_id',\n",
    "                                    'bigPod_id',\n",
    "                                    'bigPod2prop_driving_distance(meters)',\n",
    "                                    'bigPod2prop_driving_time(secs)',\n",
    "                                    'miniPod2prop_driving_distance(meters)',\n",
    "                                    'miniPod2prop_driving_time(secs)',\n",
    "                                    'techZip2prop_driving_distance(meters)',\n",
    "                                    'techZip2prop_driving_time(secs)',\n",
    "                                    'techZip2miniPod_driving_distance(meters)',\n",
    "                                    'techZip2miniPod_driving_time(secs)',\n",
    "                                    'tech_zip',\n",
    "                                    'tech_name',\n",
    "                                    'tech_email'\n",
    "                                   ]]\n",
    "\n",
    "collected_final['bigPod_id'] = collected_final['bigPod_id'].astype(int)"
   ],
   "metadata": {
    "collapsed": false,
    "pycharm": {
     "name": "#%%\n"
    }
   }
  },
  {
   "cell_type": "code",
   "execution_count": null,
   "outputs": [],
   "source": [
    "collected_final.groupby(['tech_name', 'miniPod_id']).agg({'techZip2miniPod_driving_time(secs)':'mean'})"
   ],
   "metadata": {
    "collapsed": false,
    "pycharm": {
     "name": "#%%\n",
     "is_executing": true
    }
   }
  },
  {
   "cell_type": "code",
   "execution_count": 60,
   "outputs": [
    {
     "data": {
      "text/plain": "     propertyid branchname subdivision_name  property_latitude  \\\n0        688715   St Louis      VLG OF PHEA          38.748878   \n1        689576   St Louis        BOARDWALK          38.825485   \n2        689587   St Louis      RIVER OAK E          38.820415   \n3        742920   St Louis      DARDENNE CR          38.766739   \n4        746947   St Louis      COUNTRY VIL          38.809879   \n..          ...        ...              ...                ...   \n917     8867601   St Louis                           38.793611   \n918     8892203   St Louis                           38.547829   \n919     8977053   St Louis                           38.429933   \n920     9156794   St Louis                           38.796061   \n921     9190647   St Louis                           38.798119   \n\n     property_longitude   tech_lat  tech_long  bigPod_lat  bigPod_long  \\\n0            -90.695831  38.677276 -90.239754   38.721764   -90.400921   \n1            -90.324326  38.795587 -90.277213   38.721764   -90.400921   \n2            -90.283859  38.795587 -90.277213   38.721764   -90.400921   \n3            -90.625801  38.677276 -90.239754   38.721764   -90.400921   \n4            -90.230721  38.795587 -90.277213   38.721764   -90.400921   \n..                  ...        ...        ...         ...          ...   \n917          -90.311658  38.795587 -90.277213   38.721764   -90.400921   \n918          -90.388245  38.795587 -90.277213   38.721764   -90.400921   \n919          -90.321703  38.795587 -90.277213   38.721764   -90.400921   \n920          -90.253075  38.795587 -90.277213   38.721764   -90.400921   \n921          -90.265030  38.795587 -90.277213   38.721764   -90.400921   \n\n     miniPod_lat  ...  bigPod2prop_driving_time(secs)  \\\n0      38.768794  ...                          1808.8   \n1      38.811149  ...                          1305.6   \n2      38.811149  ...                          1455.7   \n3      38.768794  ...                          1663.3   \n4      38.811149  ...                          1455.6   \n..           ...  ...                             ...   \n917    38.811149  ...                          1109.5   \n918    38.811149  ...                          1740.0   \n919    38.811149  ...                          2594.1   \n920    38.811149  ...                          1348.1   \n921    38.811149  ...                          1293.2   \n\n     miniPod2prop_driving_distance(meters)  miniPod2prop_driving_time(secs)  \\\n0                                  15159.6                           1008.4   \n1                                   4280.9                            375.4   \n2                                   2032.6                            189.9   \n3                                   6270.3                            717.9   \n4                                   7135.2                            549.2   \n..                                     ...                              ...   \n917                                 3408.6                            346.5   \n918                                35647.7                           2362.8   \n919                                59435.6                           3305.0   \n920                                 6184.3                            506.3   \n921                                 5242.4                            451.4   \n\n     techZip2prop_driving_distance(meters)  techZip2prop_driving_time(secs)  \\\n0                                  48554.4                           2587.5   \n1                                   7098.9                            550.3   \n2                                   4577.1                            382.8   \n3                                  43509.0                           2442.0   \n4                                   6290.6                            490.9   \n..                                     ...                              ...   \n917                                 3608.2                            286.6   \n918                                38763.7                           2326.0   \n919                                62195.4                           3275.9   \n920                                 2960.7                            275.2   \n921                                 2018.9                            220.3   \n\n     techZip2miniPod_driving_distance(meters)  \\\n0                                     38683.1   \n1                                      3641.4   \n2                                      3641.4   \n3                                     38683.1   \n4                                      3641.4   \n..                                        ...   \n917                                    3641.4   \n918                                    3641.4   \n919                                    3641.4   \n920                                    3641.4   \n921                                    3641.4   \n\n     techZip2miniPod_driving_time(secs)  tech_zip       tech_name  \\\n0                                2241.7     63115  Richard Carter   \n1                                 295.0     63033   Donald Sewood   \n2                                 295.0     63033   Donald Sewood   \n3                                2241.7     63115  Richard Carter   \n4                                 295.0     63033   Donald Sewood   \n..                                  ...       ...             ...   \n917                               295.0     63033   Donald Sewood   \n918                               295.0     63033   Donald Sewood   \n919                               295.0     63033   Donald Sewood   \n920                               295.0     63033   Donald Sewood   \n921                               295.0     63033   Donald Sewood   \n\n                 tech_email  \n0    ricarter@msrenewal.com  \n1     dsewood@msrenewal.com  \n2     dsewood@msrenewal.com  \n3    ricarter@msrenewal.com  \n4     dsewood@msrenewal.com  \n..                      ...  \n917   dsewood@msrenewal.com  \n918   dsewood@msrenewal.com  \n919   dsewood@msrenewal.com  \n920   dsewood@msrenewal.com  \n921   dsewood@msrenewal.com  \n\n[922 rows x 24 columns]",
      "text/html": "<div>\n<style scoped>\n    .dataframe tbody tr th:only-of-type {\n        vertical-align: middle;\n    }\n\n    .dataframe tbody tr th {\n        vertical-align: top;\n    }\n\n    .dataframe thead th {\n        text-align: right;\n    }\n</style>\n<table border=\"1\" class=\"dataframe\">\n  <thead>\n    <tr style=\"text-align: right;\">\n      <th></th>\n      <th>propertyid</th>\n      <th>branchname</th>\n      <th>subdivision_name</th>\n      <th>property_latitude</th>\n      <th>property_longitude</th>\n      <th>tech_lat</th>\n      <th>tech_long</th>\n      <th>bigPod_lat</th>\n      <th>bigPod_long</th>\n      <th>miniPod_lat</th>\n      <th>...</th>\n      <th>bigPod2prop_driving_time(secs)</th>\n      <th>miniPod2prop_driving_distance(meters)</th>\n      <th>miniPod2prop_driving_time(secs)</th>\n      <th>techZip2prop_driving_distance(meters)</th>\n      <th>techZip2prop_driving_time(secs)</th>\n      <th>techZip2miniPod_driving_distance(meters)</th>\n      <th>techZip2miniPod_driving_time(secs)</th>\n      <th>tech_zip</th>\n      <th>tech_name</th>\n      <th>tech_email</th>\n    </tr>\n  </thead>\n  <tbody>\n    <tr>\n      <th>0</th>\n      <td>688715</td>\n      <td>St Louis</td>\n      <td>VLG OF PHEA</td>\n      <td>38.748878</td>\n      <td>-90.695831</td>\n      <td>38.677276</td>\n      <td>-90.239754</td>\n      <td>38.721764</td>\n      <td>-90.400921</td>\n      <td>38.768794</td>\n      <td>...</td>\n      <td>1808.8</td>\n      <td>15159.6</td>\n      <td>1008.4</td>\n      <td>48554.4</td>\n      <td>2587.5</td>\n      <td>38683.1</td>\n      <td>2241.7</td>\n      <td>63115</td>\n      <td>Richard Carter</td>\n      <td>ricarter@msrenewal.com</td>\n    </tr>\n    <tr>\n      <th>1</th>\n      <td>689576</td>\n      <td>St Louis</td>\n      <td>BOARDWALK</td>\n      <td>38.825485</td>\n      <td>-90.324326</td>\n      <td>38.795587</td>\n      <td>-90.277213</td>\n      <td>38.721764</td>\n      <td>-90.400921</td>\n      <td>38.811149</td>\n      <td>...</td>\n      <td>1305.6</td>\n      <td>4280.9</td>\n      <td>375.4</td>\n      <td>7098.9</td>\n      <td>550.3</td>\n      <td>3641.4</td>\n      <td>295.0</td>\n      <td>63033</td>\n      <td>Donald Sewood</td>\n      <td>dsewood@msrenewal.com</td>\n    </tr>\n    <tr>\n      <th>2</th>\n      <td>689587</td>\n      <td>St Louis</td>\n      <td>RIVER OAK E</td>\n      <td>38.820415</td>\n      <td>-90.283859</td>\n      <td>38.795587</td>\n      <td>-90.277213</td>\n      <td>38.721764</td>\n      <td>-90.400921</td>\n      <td>38.811149</td>\n      <td>...</td>\n      <td>1455.7</td>\n      <td>2032.6</td>\n      <td>189.9</td>\n      <td>4577.1</td>\n      <td>382.8</td>\n      <td>3641.4</td>\n      <td>295.0</td>\n      <td>63033</td>\n      <td>Donald Sewood</td>\n      <td>dsewood@msrenewal.com</td>\n    </tr>\n    <tr>\n      <th>3</th>\n      <td>742920</td>\n      <td>St Louis</td>\n      <td>DARDENNE CR</td>\n      <td>38.766739</td>\n      <td>-90.625801</td>\n      <td>38.677276</td>\n      <td>-90.239754</td>\n      <td>38.721764</td>\n      <td>-90.400921</td>\n      <td>38.768794</td>\n      <td>...</td>\n      <td>1663.3</td>\n      <td>6270.3</td>\n      <td>717.9</td>\n      <td>43509.0</td>\n      <td>2442.0</td>\n      <td>38683.1</td>\n      <td>2241.7</td>\n      <td>63115</td>\n      <td>Richard Carter</td>\n      <td>ricarter@msrenewal.com</td>\n    </tr>\n    <tr>\n      <th>4</th>\n      <td>746947</td>\n      <td>St Louis</td>\n      <td>COUNTRY VIL</td>\n      <td>38.809879</td>\n      <td>-90.230721</td>\n      <td>38.795587</td>\n      <td>-90.277213</td>\n      <td>38.721764</td>\n      <td>-90.400921</td>\n      <td>38.811149</td>\n      <td>...</td>\n      <td>1455.6</td>\n      <td>7135.2</td>\n      <td>549.2</td>\n      <td>6290.6</td>\n      <td>490.9</td>\n      <td>3641.4</td>\n      <td>295.0</td>\n      <td>63033</td>\n      <td>Donald Sewood</td>\n      <td>dsewood@msrenewal.com</td>\n    </tr>\n    <tr>\n      <th>...</th>\n      <td>...</td>\n      <td>...</td>\n      <td>...</td>\n      <td>...</td>\n      <td>...</td>\n      <td>...</td>\n      <td>...</td>\n      <td>...</td>\n      <td>...</td>\n      <td>...</td>\n      <td>...</td>\n      <td>...</td>\n      <td>...</td>\n      <td>...</td>\n      <td>...</td>\n      <td>...</td>\n      <td>...</td>\n      <td>...</td>\n      <td>...</td>\n      <td>...</td>\n      <td>...</td>\n    </tr>\n    <tr>\n      <th>917</th>\n      <td>8867601</td>\n      <td>St Louis</td>\n      <td></td>\n      <td>38.793611</td>\n      <td>-90.311658</td>\n      <td>38.795587</td>\n      <td>-90.277213</td>\n      <td>38.721764</td>\n      <td>-90.400921</td>\n      <td>38.811149</td>\n      <td>...</td>\n      <td>1109.5</td>\n      <td>3408.6</td>\n      <td>346.5</td>\n      <td>3608.2</td>\n      <td>286.6</td>\n      <td>3641.4</td>\n      <td>295.0</td>\n      <td>63033</td>\n      <td>Donald Sewood</td>\n      <td>dsewood@msrenewal.com</td>\n    </tr>\n    <tr>\n      <th>918</th>\n      <td>8892203</td>\n      <td>St Louis</td>\n      <td></td>\n      <td>38.547829</td>\n      <td>-90.388245</td>\n      <td>38.795587</td>\n      <td>-90.277213</td>\n      <td>38.721764</td>\n      <td>-90.400921</td>\n      <td>38.811149</td>\n      <td>...</td>\n      <td>1740.0</td>\n      <td>35647.7</td>\n      <td>2362.8</td>\n      <td>38763.7</td>\n      <td>2326.0</td>\n      <td>3641.4</td>\n      <td>295.0</td>\n      <td>63033</td>\n      <td>Donald Sewood</td>\n      <td>dsewood@msrenewal.com</td>\n    </tr>\n    <tr>\n      <th>919</th>\n      <td>8977053</td>\n      <td>St Louis</td>\n      <td></td>\n      <td>38.429933</td>\n      <td>-90.321703</td>\n      <td>38.795587</td>\n      <td>-90.277213</td>\n      <td>38.721764</td>\n      <td>-90.400921</td>\n      <td>38.811149</td>\n      <td>...</td>\n      <td>2594.1</td>\n      <td>59435.6</td>\n      <td>3305.0</td>\n      <td>62195.4</td>\n      <td>3275.9</td>\n      <td>3641.4</td>\n      <td>295.0</td>\n      <td>63033</td>\n      <td>Donald Sewood</td>\n      <td>dsewood@msrenewal.com</td>\n    </tr>\n    <tr>\n      <th>920</th>\n      <td>9156794</td>\n      <td>St Louis</td>\n      <td></td>\n      <td>38.796061</td>\n      <td>-90.253075</td>\n      <td>38.795587</td>\n      <td>-90.277213</td>\n      <td>38.721764</td>\n      <td>-90.400921</td>\n      <td>38.811149</td>\n      <td>...</td>\n      <td>1348.1</td>\n      <td>6184.3</td>\n      <td>506.3</td>\n      <td>2960.7</td>\n      <td>275.2</td>\n      <td>3641.4</td>\n      <td>295.0</td>\n      <td>63033</td>\n      <td>Donald Sewood</td>\n      <td>dsewood@msrenewal.com</td>\n    </tr>\n    <tr>\n      <th>921</th>\n      <td>9190647</td>\n      <td>St Louis</td>\n      <td></td>\n      <td>38.798119</td>\n      <td>-90.265030</td>\n      <td>38.795587</td>\n      <td>-90.277213</td>\n      <td>38.721764</td>\n      <td>-90.400921</td>\n      <td>38.811149</td>\n      <td>...</td>\n      <td>1293.2</td>\n      <td>5242.4</td>\n      <td>451.4</td>\n      <td>2018.9</td>\n      <td>220.3</td>\n      <td>3641.4</td>\n      <td>295.0</td>\n      <td>63033</td>\n      <td>Donald Sewood</td>\n      <td>dsewood@msrenewal.com</td>\n    </tr>\n  </tbody>\n</table>\n<p>922 rows × 24 columns</p>\n</div>"
     },
     "execution_count": 60,
     "metadata": {},
     "output_type": "execute_result"
    }
   ],
   "source": [
    "collected_final"
   ],
   "metadata": {
    "collapsed": false,
    "pycharm": {
     "name": "#%%\n"
    }
   }
  },
  {
   "cell_type": "code",
   "execution_count": 61,
   "outputs": [],
   "source": [
    "# collected_final.to_csv('stLouis_Assigned.csv', index=False)"
   ],
   "metadata": {
    "collapsed": false,
    "pycharm": {
     "name": "#%%\n"
    }
   }
  }
 ],
 "metadata": {
  "kernelspec": {
   "display_name": "Python 3",
   "language": "python",
   "name": "python3"
  },
  "language_info": {
   "codemirror_mode": {
    "name": "ipython",
    "version": 2
   },
   "file_extension": ".py",
   "mimetype": "text/x-python",
   "name": "python",
   "nbconvert_exporter": "python",
   "pygments_lexer": "ipython2",
   "version": "2.7.6"
  }
 },
 "nbformat": 4,
 "nbformat_minor": 0
}